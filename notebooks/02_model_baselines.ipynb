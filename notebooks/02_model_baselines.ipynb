{
 "cells": [
  {
   "cell_type": "code",
   "execution_count": 313,
   "id": "01b827ee",
   "metadata": {},
   "outputs": [],
   "source": [
    "import pandas as pd\n",
    "from sklearn import metrics\n",
    "\n",
    "from sklearn.model_selection import train_test_split\n",
    "from imblearn.combine import SMOTEENN\n",
    "\n",
    "from sklearn.linear_model import LogisticRegression\n",
    "from sklearn.tree import DecisionTreeClassifier\n",
    "from sklearn.svm import SVC\n",
    "from sklearn.naive_bayes import GaussianNB\n",
    "from sklearn.neighbors import KNeighborsClassifier\n",
    "from sklearn.ensemble import RandomForestClassifier\n",
    "from xgboost import XGBClassifier\n",
    "\n",
    "from sklearn.metrics import accuracy_score , recall_score , classification_report , confusion_matrix , roc_auc_score , f1_score\n",
    "\n",
    "import warnings\n",
    "warnings.filterwarnings(\"ignore\")\n"
   ]
  },
  {
   "cell_type": "code",
   "execution_count": 269,
   "id": "89556556",
   "metadata": {},
   "outputs": [
    {
     "data": {
      "text/html": [
       "<div>\n",
       "<style scoped>\n",
       "    .dataframe tbody tr th:only-of-type {\n",
       "        vertical-align: middle;\n",
       "    }\n",
       "\n",
       "    .dataframe tbody tr th {\n",
       "        vertical-align: top;\n",
       "    }\n",
       "\n",
       "    .dataframe thead th {\n",
       "        text-align: right;\n",
       "    }\n",
       "</style>\n",
       "<table border=\"1\" class=\"dataframe\">\n",
       "  <thead>\n",
       "    <tr style=\"text-align: right;\">\n",
       "      <th></th>\n",
       "      <th>gender</th>\n",
       "      <th>SeniorCitizen</th>\n",
       "      <th>Partner</th>\n",
       "      <th>Dependents</th>\n",
       "      <th>tenure</th>\n",
       "      <th>PhoneService</th>\n",
       "      <th>PaperlessBilling</th>\n",
       "      <th>MonthlyCharges</th>\n",
       "      <th>TotalCharges</th>\n",
       "      <th>Churn</th>\n",
       "      <th>...</th>\n",
       "      <th>TechSupport_Yes</th>\n",
       "      <th>StreamingTV_No internet service</th>\n",
       "      <th>StreamingTV_Yes</th>\n",
       "      <th>StreamingMovies_No internet service</th>\n",
       "      <th>StreamingMovies_Yes</th>\n",
       "      <th>Contract_One year</th>\n",
       "      <th>Contract_Two year</th>\n",
       "      <th>PaymentMethod_Credit card (automatic)</th>\n",
       "      <th>PaymentMethod_Electronic check</th>\n",
       "      <th>PaymentMethod_Mailed check</th>\n",
       "    </tr>\n",
       "  </thead>\n",
       "  <tbody>\n",
       "    <tr>\n",
       "      <th>0</th>\n",
       "      <td>0</td>\n",
       "      <td>0</td>\n",
       "      <td>1</td>\n",
       "      <td>0</td>\n",
       "      <td>-1.277445</td>\n",
       "      <td>0</td>\n",
       "      <td>1</td>\n",
       "      <td>-1.172988</td>\n",
       "      <td>-0.994411</td>\n",
       "      <td>0</td>\n",
       "      <td>...</td>\n",
       "      <td>0</td>\n",
       "      <td>0</td>\n",
       "      <td>0</td>\n",
       "      <td>0</td>\n",
       "      <td>0</td>\n",
       "      <td>0</td>\n",
       "      <td>0</td>\n",
       "      <td>0</td>\n",
       "      <td>1</td>\n",
       "      <td>0</td>\n",
       "    </tr>\n",
       "    <tr>\n",
       "      <th>1</th>\n",
       "      <td>1</td>\n",
       "      <td>0</td>\n",
       "      <td>0</td>\n",
       "      <td>0</td>\n",
       "      <td>0.066327</td>\n",
       "      <td>1</td>\n",
       "      <td>0</td>\n",
       "      <td>-0.275697</td>\n",
       "      <td>-0.173258</td>\n",
       "      <td>0</td>\n",
       "      <td>...</td>\n",
       "      <td>0</td>\n",
       "      <td>0</td>\n",
       "      <td>0</td>\n",
       "      <td>0</td>\n",
       "      <td>0</td>\n",
       "      <td>1</td>\n",
       "      <td>0</td>\n",
       "      <td>0</td>\n",
       "      <td>0</td>\n",
       "      <td>1</td>\n",
       "    </tr>\n",
       "    <tr>\n",
       "      <th>2</th>\n",
       "      <td>1</td>\n",
       "      <td>0</td>\n",
       "      <td>0</td>\n",
       "      <td>0</td>\n",
       "      <td>-1.236724</td>\n",
       "      <td>1</td>\n",
       "      <td>1</td>\n",
       "      <td>-0.375396</td>\n",
       "      <td>-0.959534</td>\n",
       "      <td>1</td>\n",
       "      <td>...</td>\n",
       "      <td>0</td>\n",
       "      <td>0</td>\n",
       "      <td>0</td>\n",
       "      <td>0</td>\n",
       "      <td>0</td>\n",
       "      <td>0</td>\n",
       "      <td>0</td>\n",
       "      <td>0</td>\n",
       "      <td>0</td>\n",
       "      <td>1</td>\n",
       "    </tr>\n",
       "    <tr>\n",
       "      <th>3</th>\n",
       "      <td>1</td>\n",
       "      <td>0</td>\n",
       "      <td>0</td>\n",
       "      <td>0</td>\n",
       "      <td>0.514251</td>\n",
       "      <td>0</td>\n",
       "      <td>0</td>\n",
       "      <td>-0.740959</td>\n",
       "      <td>-0.194890</td>\n",
       "      <td>0</td>\n",
       "      <td>...</td>\n",
       "      <td>1</td>\n",
       "      <td>0</td>\n",
       "      <td>0</td>\n",
       "      <td>0</td>\n",
       "      <td>0</td>\n",
       "      <td>1</td>\n",
       "      <td>0</td>\n",
       "      <td>0</td>\n",
       "      <td>0</td>\n",
       "      <td>0</td>\n",
       "    </tr>\n",
       "    <tr>\n",
       "      <th>4</th>\n",
       "      <td>0</td>\n",
       "      <td>0</td>\n",
       "      <td>0</td>\n",
       "      <td>0</td>\n",
       "      <td>-1.236724</td>\n",
       "      <td>1</td>\n",
       "      <td>1</td>\n",
       "      <td>0.189564</td>\n",
       "      <td>-0.940550</td>\n",
       "      <td>1</td>\n",
       "      <td>...</td>\n",
       "      <td>0</td>\n",
       "      <td>0</td>\n",
       "      <td>0</td>\n",
       "      <td>0</td>\n",
       "      <td>0</td>\n",
       "      <td>0</td>\n",
       "      <td>0</td>\n",
       "      <td>0</td>\n",
       "      <td>1</td>\n",
       "      <td>0</td>\n",
       "    </tr>\n",
       "  </tbody>\n",
       "</table>\n",
       "<p>5 rows × 31 columns</p>\n",
       "</div>"
      ],
      "text/plain": [
       "   gender  SeniorCitizen  Partner  Dependents    tenure  PhoneService  \\\n",
       "0       0              0        1           0 -1.277445             0   \n",
       "1       1              0        0           0  0.066327             1   \n",
       "2       1              0        0           0 -1.236724             1   \n",
       "3       1              0        0           0  0.514251             0   \n",
       "4       0              0        0           0 -1.236724             1   \n",
       "\n",
       "   PaperlessBilling  MonthlyCharges  TotalCharges  Churn  ...  \\\n",
       "0                 1       -1.172988     -0.994411      0  ...   \n",
       "1                 0       -0.275697     -0.173258      0  ...   \n",
       "2                 1       -0.375396     -0.959534      1  ...   \n",
       "3                 0       -0.740959     -0.194890      0  ...   \n",
       "4                 1        0.189564     -0.940550      1  ...   \n",
       "\n",
       "   TechSupport_Yes  StreamingTV_No internet service  StreamingTV_Yes  \\\n",
       "0                0                                0                0   \n",
       "1                0                                0                0   \n",
       "2                0                                0                0   \n",
       "3                1                                0                0   \n",
       "4                0                                0                0   \n",
       "\n",
       "   StreamingMovies_No internet service  StreamingMovies_Yes  \\\n",
       "0                                    0                    0   \n",
       "1                                    0                    0   \n",
       "2                                    0                    0   \n",
       "3                                    0                    0   \n",
       "4                                    0                    0   \n",
       "\n",
       "   Contract_One year  Contract_Two year  \\\n",
       "0                  0                  0   \n",
       "1                  1                  0   \n",
       "2                  0                  0   \n",
       "3                  1                  0   \n",
       "4                  0                  0   \n",
       "\n",
       "   PaymentMethod_Credit card (automatic)  PaymentMethod_Electronic check  \\\n",
       "0                                      0                               1   \n",
       "1                                      0                               0   \n",
       "2                                      0                               0   \n",
       "3                                      0                               0   \n",
       "4                                      0                               1   \n",
       "\n",
       "   PaymentMethod_Mailed check  \n",
       "0                           0  \n",
       "1                           1  \n",
       "2                           1  \n",
       "3                           0  \n",
       "4                           0  \n",
       "\n",
       "[5 rows x 31 columns]"
      ]
     },
     "execution_count": 269,
     "metadata": {},
     "output_type": "execute_result"
    }
   ],
   "source": [
    "df = pd.read_csv('../data/processed/processed_churn.csv')\n",
    "df.head()"
   ]
  },
  {
   "cell_type": "markdown",
   "id": "6326b2c6",
   "metadata": {},
   "source": [
    "Building Baseline Model"
   ]
  },
  {
   "cell_type": "code",
   "execution_count": 270,
   "id": "69482fe9",
   "metadata": {},
   "outputs": [],
   "source": [
    "# Data Spliting\n",
    "\n",
    "from sklearn.model_selection import train_test_split\n",
    "\n",
    "X = df.drop('Churn', axis=1) # Features\n",
    "y = df['Churn']              # Target\n",
    "\n",
    "X_train, X_test, y_train, y_test = train_test_split(X, y, test_size=0.2, random_state=42, stratify=y)"
   ]
  },
  {
   "cell_type": "code",
   "execution_count": 271,
   "id": "a9b1e5a8",
   "metadata": {},
   "outputs": [
    {
     "name": "stdout",
     "output_type": "stream",
     "text": [
      "Before Resampling: Churn\n",
      "1    2919\n",
      "0    2266\n",
      "Name: count, dtype: int64\n",
      "After Resampling: Churn\n",
      "1    740\n",
      "0    557\n",
      "Name: count, dtype: int64\n"
     ]
    }
   ],
   "source": [
    "# Smoteenn \n",
    "\n",
    "from imblearn.combine import SMOTEENN\n",
    "\n",
    "smote = SMOTEENN(random_state=42)\n",
    "X_train_resampled, y_train_resampled = smote.fit_resample(X, y)\n",
    "Xr_train,Xr_test,yr_train,yr_test=train_test_split(X_train_resampled, y_train_resampled,test_size=0.2)\n",
    "print(\"Before Resampling:\", yr_train.value_counts())\n",
    "print(\"After Resampling:\", yr_test.value_counts())"
   ]
  },
  {
   "cell_type": "markdown",
   "id": "11024937",
   "metadata": {},
   "source": [
    "Logistic Regression"
   ]
  },
  {
   "cell_type": "code",
   "execution_count": 272,
   "id": "9f41f02a",
   "metadata": {},
   "outputs": [
    {
     "name": "stdout",
     "output_type": "stream",
     "text": [
      "Accuracy: 0.8062455642299503\n",
      "Classification Report:\n",
      "               precision    recall  f1-score   support\n",
      "\n",
      "           0       0.85      0.89      0.87      1035\n",
      "           1       0.66      0.56      0.61       374\n",
      "\n",
      "    accuracy                           0.81      1409\n",
      "   macro avg       0.75      0.73      0.74      1409\n",
      "weighted avg       0.80      0.81      0.80      1409\n",
      "\n",
      "ROC AUC Score: 0.7280916582706863\n",
      "Confusion Matrix:\n",
      " [[926 109]\n",
      " [164 210]]\n"
     ]
    }
   ],
   "source": [
    "# training the Baseliner Model with Logistic Regression Algorithm\n",
    "\n",
    "model_LG = LogisticRegression(max_iter=1000)\n",
    "model_LG.fit(X_train, y_train)\n",
    "\n",
    "y_pred_LG = model_LG.predict(X_test)\n",
    "\n",
    "print(\"Accuracy:\", accuracy_score(y_test, y_pred_LG))\n",
    "print(\"Classification Report:\\n\", classification_report(y_test, y_pred_LG))\n",
    "print(\"ROC AUC Score:\", roc_auc_score(y_test, y_pred_LG))\n",
    "print(\"Confusion Matrix:\\n\", confusion_matrix(y_test, y_pred_LG))\n"
   ]
  },
  {
   "cell_type": "code",
   "execution_count": 273,
   "id": "1a3a987c",
   "metadata": {},
   "outputs": [
    {
     "name": "stdout",
     "output_type": "stream",
     "text": [
      "Accuracy: 0.9298380878951427\n",
      "Classification Report:\n",
      "               precision    recall  f1-score   support\n",
      "\n",
      "           0       0.93      0.90      0.92       557\n",
      "           1       0.93      0.95      0.94       740\n",
      "\n",
      "    accuracy                           0.93      1297\n",
      "   macro avg       0.93      0.93      0.93      1297\n",
      "weighted avg       0.93      0.93      0.93      1297\n",
      "\n",
      "ROC AUC Score: 0.9260820515308845\n",
      "Confusion Matrix:\n",
      " [[501  56]\n",
      " [ 35 705]]\n"
     ]
    }
   ],
   "source": [
    "# Logistic Regression Algorithm using smoteenn\n",
    "\n",
    "from sklearn.linear_model import LogisticRegression\n",
    "\n",
    "model_LG_bal = LogisticRegression(max_iter=1000)\n",
    "model_LG_bal.fit(Xr_train, yr_train)\n",
    "\n",
    "y_pred_LG_bal = model_LG_bal.predict(Xr_test)\n",
    "\n",
    "print(\"Accuracy:\", accuracy_score(yr_test, y_pred_LG_bal))\n",
    "print(\"Classification Report:\\n\", classification_report(yr_test, y_pred_LG_bal))\n",
    "print(\"ROC AUC Score:\", roc_auc_score(yr_test, y_pred_LG_bal))\n",
    "print(\"Confusion Matrix:\\n\", confusion_matrix(yr_test, y_pred_LG_bal))"
   ]
  },
  {
   "cell_type": "markdown",
   "id": "f8372e95",
   "metadata": {},
   "source": [
    "Decision Tree"
   ]
  },
  {
   "cell_type": "code",
   "execution_count": 274,
   "id": "6880d192",
   "metadata": {},
   "outputs": [
    {
     "name": "stdout",
     "output_type": "stream",
     "text": [
      "Accuracy: 0.7274662881476224\n",
      "Classification Report:\n",
      "               precision    recall  f1-score   support\n",
      "\n",
      "           0       0.81      0.82      0.82      1035\n",
      "           1       0.49      0.47      0.48       374\n",
      "\n",
      "    accuracy                           0.73      1409\n",
      "   macro avg       0.65      0.65      0.65      1409\n",
      "weighted avg       0.73      0.73      0.73      1409\n",
      "\n",
      "ROC AUC Score: 0.646292851791573\n",
      "Confusion Matrix:\n",
      " [[848 187]\n",
      " [197 177]]\n"
     ]
    }
   ],
   "source": [
    "\n",
    "\n",
    "model_DT = DecisionTreeClassifier()\n",
    "model_DT.fit(X_train, y_train)\n",
    "\n",
    "y_pred = model_DT.predict(X_test)\n",
    "\n",
    "print(\"Accuracy:\", accuracy_score(y_test, y_pred))\n",
    "print(\"Classification Report:\\n\", classification_report(y_test, y_pred))\n",
    "print(\"ROC AUC Score:\", roc_auc_score(y_test, y_pred))\n",
    "print(\"Confusion Matrix:\\n\", confusion_matrix(y_test, y_pred))"
   ]
  },
  {
   "cell_type": "code",
   "execution_count": 275,
   "id": "8407b146",
   "metadata": {},
   "outputs": [
    {
     "name": "stdout",
     "output_type": "stream",
     "text": [
      "Accuracy: 0.9313801079414032\n",
      "Classification Report:\n",
      "               precision    recall  f1-score   support\n",
      "\n",
      "           0       0.93      0.90      0.92       557\n",
      "           1       0.93      0.95      0.94       740\n",
      "\n",
      "    accuracy                           0.93      1297\n",
      "   macro avg       0.93      0.93      0.93      1297\n",
      "weighted avg       0.93      0.93      0.93      1297\n",
      "\n",
      "ROC AUC Score: 0.9280993740598769\n",
      "Confusion Matrix:\n",
      " [[504  53]\n",
      " [ 36 704]]\n"
     ]
    }
   ],
   "source": [
    "# Decision Tree Algorithm using smoteenn\n",
    "\n",
    "model_DT_bal = DecisionTreeClassifier()\n",
    "model_DT_bal.fit(Xr_train, yr_train)\n",
    "\n",
    "y_pred_DT_bal = model_DT_bal.predict(Xr_test)\n",
    "\n",
    "print(\"Accuracy:\", accuracy_score(yr_test, y_pred_DT_bal))\n",
    "print(\"Classification Report:\\n\", classification_report(yr_test, y_pred_DT_bal))\n",
    "print(\"ROC AUC Score:\", roc_auc_score(yr_test, y_pred_DT_bal))\n",
    "print(\"Confusion Matrix:\\n\", confusion_matrix(yr_test, y_pred_DT_bal))"
   ]
  },
  {
   "cell_type": "markdown",
   "id": "4a2a3c31",
   "metadata": {},
   "source": [
    "Random Forest"
   ]
  },
  {
   "cell_type": "code",
   "execution_count": 276,
   "id": "60549d69",
   "metadata": {},
   "outputs": [
    {
     "name": "stdout",
     "output_type": "stream",
     "text": [
      "Accuracy: 0.7828246983676366\n",
      "Classification Report:\n",
      "               precision    recall  f1-score   support\n",
      "\n",
      "           0       0.82      0.90      0.86      1035\n",
      "           1       0.62      0.47      0.53       374\n",
      "\n",
      "    accuracy                           0.78      1409\n",
      "   macro avg       0.72      0.68      0.70      1409\n",
      "weighted avg       0.77      0.78      0.77      1409\n",
      "\n",
      "ROC AUC Score: 0.6822663979952982\n",
      "Confusion Matrix:\n",
      " [[928 107]\n",
      " [199 175]]\n"
     ]
    }
   ],
   "source": [
    "\n",
    "\n",
    "model_RF = RandomForestClassifier()\n",
    "model_RF.fit(X_train, y_train)\n",
    "\n",
    "y_pred = model_RF.predict(X_test)\n",
    "\n",
    "print(\"Accuracy:\", accuracy_score(y_test, y_pred))\n",
    "print(\"Classification Report:\\n\", classification_report(y_test, y_pred))\n",
    "print(\"ROC AUC Score:\", roc_auc_score(y_test, y_pred))\n",
    "print(\"Confusion Matrix:\\n\", confusion_matrix(y_test, y_pred))"
   ]
  },
  {
   "cell_type": "code",
   "execution_count": 277,
   "id": "81f10a26",
   "metadata": {},
   "outputs": [
    {
     "name": "stdout",
     "output_type": "stream",
     "text": [
      "Accuracy: 0.9198149575944488\n",
      "Classification Report:\n",
      "               precision    recall  f1-score   support\n",
      "\n",
      "           0       0.94      0.86      0.90       557\n",
      "           1       0.90      0.96      0.93       740\n",
      "\n",
      "    accuracy                           0.92      1297\n",
      "   macro avg       0.92      0.91      0.92      1297\n",
      "weighted avg       0.92      0.92      0.92      1297\n",
      "\n",
      "ROC AUC Score: 0.9128584598961618\n",
      "Confusion Matrix:\n",
      " [[481  76]\n",
      " [ 28 712]]\n"
     ]
    }
   ],
   "source": [
    "# Random Forest Algorithm using smoteenn\n",
    "\n",
    "model_RF_bal = RandomForestClassifier(criterion = \"gini\",random_state = 100,max_depth=6, min_samples_leaf=8)\n",
    "model_RF_bal.fit(Xr_train, yr_train)\n",
    "\n",
    "y_pred_RF_bal = model_RF_bal.predict(Xr_test)\n",
    "\n",
    "print(\"Accuracy:\", accuracy_score(yr_test, y_pred_RF_bal))\n",
    "print(\"Classification Report:\\n\", classification_report(yr_test, y_pred_RF_bal))\n",
    "print(\"ROC AUC Score:\", roc_auc_score(yr_test, y_pred_RF_bal))\n",
    "print(\"Confusion Matrix:\\n\", confusion_matrix(yr_test, y_pred_RF_bal))"
   ]
  },
  {
   "cell_type": "markdown",
   "id": "98f69a33",
   "metadata": {},
   "source": [
    "XG Boost"
   ]
  },
  {
   "cell_type": "code",
   "execution_count": 278,
   "id": "f13953e2",
   "metadata": {},
   "outputs": [
    {
     "name": "stdout",
     "output_type": "stream",
     "text": [
      "Accuracy: 0.7778566359119943\n",
      "Classification Report:\n",
      "               precision    recall  f1-score   support\n",
      "\n",
      "           0       0.83      0.87      0.85      1035\n",
      "           1       0.59      0.52      0.55       374\n",
      "\n",
      "    accuracy                           0.78      1409\n",
      "   macro avg       0.71      0.69      0.70      1409\n",
      "weighted avg       0.77      0.78      0.77      1409\n",
      "\n",
      "ROC AUC Score: 0.6942532744323027\n",
      "Confusion Matrix:\n",
      " [[903 132]\n",
      " [181 193]]\n"
     ]
    }
   ],
   "source": [
    "\n",
    "\n",
    "model_XGB = XGBClassifier()\n",
    "model_XGB.fit(X_train, y_train)\n",
    "\n",
    "y_pred_XGB = model_XGB.predict(X_test)\n",
    "\n",
    "print(\"Accuracy:\", accuracy_score(y_test, y_pred_XGB))\n",
    "print(\"Classification Report:\\n\", classification_report(y_test, y_pred_XGB))\n",
    "print(\"ROC AUC Score:\", roc_auc_score(y_test, y_pred_XGB))\n",
    "print(\"Confusion Matrix:\\n\", confusion_matrix(y_test, y_pred_XGB))\n"
   ]
  },
  {
   "cell_type": "code",
   "execution_count": 279,
   "id": "877c09ed",
   "metadata": {},
   "outputs": [
    {
     "name": "stdout",
     "output_type": "stream",
     "text": [
      "Accuracy: 0.9336931380107941\n",
      "Classification Report:\n",
      "               precision    recall  f1-score   support\n",
      "\n",
      "           0       0.97      0.88      0.92       557\n",
      "           1       0.91      0.98      0.94       740\n",
      "\n",
      "    accuracy                           0.93      1297\n",
      "   macro avg       0.94      0.93      0.93      1297\n",
      "weighted avg       0.94      0.93      0.93      1297\n",
      "\n",
      "ROC AUC Score: 0.9265745548061526\n",
      "Confusion Matrix:\n",
      " [[488  69]\n",
      " [ 17 723]]\n"
     ]
    }
   ],
   "source": [
    "# XGBoost Algorithm using smoteenn\n",
    "\n",
    "model_XGB_bal = XGBClassifier(n_estimators=100, learning_rate=0.1, max_depth=5, subsample=0.8, colsample_bytree=0.8, random_state=42, scale_pos_weight=3)\n",
    "model_XGB_bal.fit(Xr_train, yr_train)\n",
    "\n",
    "y_pred_XGB_bal = model_XGB_bal.predict(Xr_test)\n",
    "\n",
    "print(\"Accuracy:\", accuracy_score(yr_test, y_pred_XGB_bal))\n",
    "print(\"Classification Report:\\n\", classification_report(yr_test, y_pred_XGB_bal))\n",
    "print(\"ROC AUC Score:\", roc_auc_score(yr_test, y_pred_XGB_bal))\n",
    "print(\"Confusion Matrix:\\n\", confusion_matrix(yr_test, y_pred_XGB_bal))                                           #gjghjghk"
   ]
  },
  {
   "cell_type": "code",
   "execution_count": 280,
   "id": "d1fd5e9e",
   "metadata": {},
   "outputs": [
    {
     "name": "stdout",
     "output_type": "stream",
     "text": [
      "Fitting 5 folds for each of 20 candidates, totalling 100 fits\n",
      "Best Parameters: {'subsample': 0.8, 'scale_pos_weight': 1, 'n_estimators': 100, 'max_depth': 9, 'learning_rate': 0.01, 'colsample_bytree': 1.0}\n",
      "Best Score: 0.9657405014215559\n"
     ]
    }
   ],
   "source": [
    "# XGBoost Classifier with Smoteenn , RandomizedSearchCV\n",
    "\n",
    "from sklearn.model_selection import RandomizedSearchCV\n",
    "model_XGB_CV =  XGBClassifier(use_label_encoder=False, eval_metric='logloss')\n",
    "\n",
    "param_dist = {\n",
    "    'n_estimators': [100, 200,300],\n",
    "    'max_depth': [3, 5, 7, 9],\n",
    "    'learning_rate': [0.01, 0.05, 0.1,0.2],\n",
    "    'subsample': [0.6,0.8, 1.0],\n",
    "    'colsample_bytree': [0.6,0.8, 1.0],\n",
    "    'scale_pos_weight': [1,len(yr_train[yr_train==0]) / len(yr_train[yr_train==1])]\n",
    "}\n",
    "\n",
    "random_search = RandomizedSearchCV(model_XGB_CV, param_distributions=param_dist, n_iter=20, scoring='recall', cv=5, verbose=2, random_state=42, n_jobs=-1)\n",
    "random_search.fit(Xr_train, yr_train)\n",
    "print(\"Best Parameters:\", random_search.best_params_)\n",
    "print(\"Best Score:\", random_search.best_score_)"
   ]
  },
  {
   "cell_type": "code",
   "execution_count": 314,
   "id": "d22cd3f5",
   "metadata": {},
   "outputs": [
    {
     "name": "stdout",
     "output_type": "stream",
     "text": [
      "Accuracy: 0.9545104086353122\n",
      "Classification Report:\n",
      "               precision    recall  f1-score   support\n",
      "\n",
      "           0       0.96      0.94      0.95       557\n",
      "           1       0.95      0.97      0.96       740\n",
      "\n",
      "    accuracy                           0.95      1297\n",
      "   macro avg       0.95      0.95      0.95      1297\n",
      "weighted avg       0.95      0.95      0.95      1297\n",
      "\n",
      "ROC AUC Score: 0.9523654713959919\n",
      "Confusion Matrix:\n",
      " [[522  35]\n",
      " [ 24 716]]\n",
      "f1 Score: 0.960429242119383\n"
     ]
    }
   ],
   "source": [
    "# Applying the best parameters obtained by RandomizedSearchCV\n",
    "\n",
    "model_XGB_RSV_bal = XGBClassifier(subsample=1.0, scale_pos_weight=1, n_estimators=300, max_depth=9, learning_rate=0.05, colsample_bytree=1.0, use_label_encoder=False, eval_metric='logloss')\n",
    "model_XGB_RSV_bal.fit(Xr_train, yr_train)\n",
    "\n",
    "y_pred_XGB_RSV_BAL = model_XGB_RSV_bal.predict(Xr_test)\n",
    "\n",
    "print(\"Accuracy:\", accuracy_score(yr_test, y_pred_XGB_RSV_BAL))\n",
    "print(\"Classification Report:\\n\", classification_report(yr_test, y_pred_XGB_RSV_BAL))\n",
    "print(\"ROC AUC Score:\", roc_auc_score(yr_test, y_pred_XGB_RSV_BAL))\n",
    "print(\"Confusion Matrix:\\n\", confusion_matrix(yr_test, y_pred_XGB_RSV_BAL))\n",
    "print('f1 Score:', f1_score(yr_test, y_pred_XGB_RSV_BAL))\n"
   ]
  },
  {
   "cell_type": "markdown",
   "id": "c4b1f856",
   "metadata": {},
   "source": [
    "Support Vector Machine"
   ]
  },
  {
   "cell_type": "code",
   "execution_count": 282,
   "id": "5de4eb01",
   "metadata": {},
   "outputs": [
    {
     "name": "stdout",
     "output_type": "stream",
     "text": [
      "Accuracy: 0.794180269694819\n",
      "Classification Report:\n",
      "               precision    recall  f1-score   support\n",
      "\n",
      "           0       0.83      0.91      0.87      1035\n",
      "           1       0.65      0.48      0.55       374\n",
      "\n",
      "    accuracy                           0.79      1409\n",
      "   macro avg       0.74      0.69      0.71      1409\n",
      "weighted avg       0.78      0.79      0.78      1409\n",
      "\n",
      "ROC AUC Score: 0.6942648996357436\n",
      "Confusion Matrix:\n",
      " [[939  96]\n",
      " [194 180]]\n"
     ]
    }
   ],
   "source": [
    "\n",
    "model_SVC = SVC()\n",
    "model_SVC.fit(X_train, y_train)\n",
    "\n",
    "y_pred_SVC = model_SVC.predict(X_test)\n",
    "\n",
    "print(\"Accuracy:\", accuracy_score(y_test, y_pred_SVC))\n",
    "print(\"Classification Report:\\n\", classification_report(y_test, y_pred_SVC))\n",
    "print(\"ROC AUC Score:\", roc_auc_score(y_test, y_pred_SVC))\n",
    "print(\"Confusion Matrix:\\n\", confusion_matrix(y_test, y_pred_SVC))\n"
   ]
  },
  {
   "cell_type": "code",
   "execution_count": 283,
   "id": "ce4547a9",
   "metadata": {},
   "outputs": [
    {
     "name": "stdout",
     "output_type": "stream",
     "text": [
      "Accuracy: 0.9406322282189669\n",
      "Classification Report:\n",
      "               precision    recall  f1-score   support\n",
      "\n",
      "           0       0.95      0.91      0.93       557\n",
      "           1       0.94      0.96      0.95       740\n",
      "\n",
      "    accuracy                           0.94      1297\n",
      "   macro avg       0.94      0.94      0.94      1297\n",
      "weighted avg       0.94      0.94      0.94      1297\n",
      "\n",
      "ROC AUC Score: 0.9370954437381726\n",
      "Confusion Matrix:\n",
      " [[508  49]\n",
      " [ 28 712]]\n"
     ]
    }
   ],
   "source": [
    "model_SVC_bal = SVC()\n",
    "model_SVC_bal.fit(Xr_train, yr_train)\n",
    "\n",
    "y_pred_SVC_bal = model_SVC_bal.predict(Xr_test)\n",
    "\n",
    "print(\"Accuracy:\", accuracy_score(yr_test, y_pred_SVC_bal))\n",
    "print(\"Classification Report:\\n\", classification_report(yr_test, y_pred_SVC_bal))\n",
    "print(\"ROC AUC Score:\", roc_auc_score(yr_test, y_pred_SVC_bal))\n",
    "print(\"Confusion Matrix:\\n\", confusion_matrix(yr_test, y_pred_SVC_bal))\n"
   ]
  },
  {
   "cell_type": "markdown",
   "id": "d9ac0c14",
   "metadata": {},
   "source": [
    "Naive Bayes"
   ]
  },
  {
   "cell_type": "code",
   "execution_count": 284,
   "id": "4fd1a250",
   "metadata": {},
   "outputs": [
    {
     "name": "stdout",
     "output_type": "stream",
     "text": [
      "Accuracy: 0.7828246983676366\n",
      "Classification Report:\n",
      "               precision    recall  f1-score   support\n",
      "\n",
      "           0       0.82      0.90      0.86      1035\n",
      "           1       0.62      0.47      0.53       374\n",
      "\n",
      "    accuracy                           0.78      1409\n",
      "   macro avg       0.72      0.68      0.70      1409\n",
      "weighted avg       0.77      0.78      0.77      1409\n",
      "\n",
      "ROC AUC Score: 0.6822663979952982\n",
      "Confusion Matrix:\n",
      " [[928 107]\n",
      " [199 175]]\n"
     ]
    }
   ],
   "source": [
    "\n",
    "\n",
    "model_NB = GaussianNB()\n",
    "model_NB.fit(X_train, y_train)\n",
    "\n",
    "Y_pred_NB = model_NB.predict(X_test)\n",
    "print(\"Accuracy:\", accuracy_score(y_test, y_pred))\n",
    "print(\"Classification Report:\\n\", classification_report(y_test, y_pred))\n",
    "print(\"ROC AUC Score:\", roc_auc_score(y_test, y_pred))\n",
    "print(\"Confusion Matrix:\\n\", confusion_matrix(y_test, y_pred))"
   ]
  },
  {
   "cell_type": "code",
   "execution_count": 285,
   "id": "e3421331",
   "metadata": {},
   "outputs": [
    {
     "name": "stdout",
     "output_type": "stream",
     "text": [
      "Accuracy: 0.882035466461064\n",
      "Classification Report:\n",
      "               precision    recall  f1-score   support\n",
      "\n",
      "           0       0.95      0.76      0.85       557\n",
      "           1       0.84      0.97      0.90       740\n",
      "\n",
      "    accuracy                           0.88      1297\n",
      "   macro avg       0.90      0.87      0.88      1297\n",
      "weighted avg       0.89      0.88      0.88      1297\n",
      "\n",
      "ROC AUC Score: 0.8673188898054248\n",
      "Confusion Matrix:\n",
      " [[425 132]\n",
      " [ 21 719]]\n"
     ]
    }
   ],
   "source": [
    "model_NB_bal = GaussianNB(var_smoothing=1e-9)\n",
    "model_NB_bal.fit(Xr_train, yr_train)\n",
    "\n",
    "Y_pred_NB_bal = model_NB_bal.predict(Xr_test)\n",
    "\n",
    "print(\"Accuracy:\", accuracy_score(yr_test, Y_pred_NB_bal))\n",
    "print(\"Classification Report:\\n\", classification_report(yr_test, Y_pred_NB_bal))\n",
    "print(\"ROC AUC Score:\", roc_auc_score(yr_test, Y_pred_NB_bal))\n",
    "print(\"Confusion Matrix:\\n\", confusion_matrix(yr_test, Y_pred_NB_bal))"
   ]
  },
  {
   "cell_type": "markdown",
   "id": "e8379ac0",
   "metadata": {},
   "source": [
    "K Nearest Neighbour"
   ]
  },
  {
   "cell_type": "code",
   "execution_count": 286,
   "id": "99e2036c",
   "metadata": {},
   "outputs": [
    {
     "name": "stdout",
     "output_type": "stream",
     "text": [
      "Accuracy: 0.7643718949609652\n",
      "Classification Report:\n",
      "               precision    recall  f1-score   support\n",
      "\n",
      "           0       0.84      0.84      0.84      1035\n",
      "           1       0.56      0.55      0.55       374\n",
      "\n",
      "    accuracy                           0.76      1409\n",
      "   macro avg       0.70      0.69      0.70      1409\n",
      "weighted avg       0.76      0.76      0.76      1409\n",
      "\n",
      "ROC AUC Score: 0.6944664031620553\n",
      "Confusion Matrix:\n",
      " [[873 162]\n",
      " [170 204]]\n"
     ]
    }
   ],
   "source": [
    "\n",
    "\n",
    "model_knn = KNeighborsClassifier()\n",
    "model_knn.fit(X_train, y_train)\n",
    "\n",
    "Y_pred_knn = model_knn.predict(X_test)\n",
    "\n",
    "print(\"Accuracy:\", accuracy_score(y_test, Y_pred))\n",
    "print(\"Classification Report:\\n\", classification_report(y_test, Y_pred))\n",
    "print(\"ROC AUC Score:\", roc_auc_score(y_test, Y_pred))\n",
    "print(\"Confusion Matrix:\\n\", confusion_matrix(y_test, Y_pred))"
   ]
  },
  {
   "cell_type": "code",
   "execution_count": 287,
   "id": "f3da9c35",
   "metadata": {},
   "outputs": [
    {
     "name": "stdout",
     "output_type": "stream",
     "text": [
      "Accuracy: 0.969159599074788\n",
      "Classification Report:\n",
      "               precision    recall  f1-score   support\n",
      "\n",
      "           0       0.99      0.93      0.96       557\n",
      "           1       0.95      1.00      0.97       740\n",
      "\n",
      "    accuracy                           0.97      1297\n",
      "   macro avg       0.97      0.96      0.97      1297\n",
      "weighted avg       0.97      0.97      0.97      1297\n",
      "\n",
      "ROC AUC Score: 0.9647593284487359\n",
      "Confusion Matrix:\n",
      " [[520  37]\n",
      " [  3 737]]\n"
     ]
    }
   ],
   "source": [
    "model_knn_bal = KNeighborsClassifier(n_neighbors=3, weights='distance', metric='minkowski')\n",
    "model_knn_bal.fit(Xr_train, yr_train)\n",
    "\n",
    "Y_pred_knn_bal = model_knn_bal.predict(Xr_test)\n",
    "\n",
    "print(\"Accuracy:\", accuracy_score(yr_test, Y_pred_knn_bal))\n",
    "print(\"Classification Report:\\n\", classification_report(yr_test, Y_pred_knn_bal))\n",
    "\n",
    "print(\"ROC AUC Score:\", roc_auc_score(yr_test, Y_pred_knn_bal))\n",
    "print(\"Confusion Matrix:\\n\", confusion_matrix(yr_test, Y_pred_knn_bal))"
   ]
  },
  {
   "cell_type": "markdown",
   "id": "8a1f0956",
   "metadata": {},
   "source": [
    "MODEL SELECTION"
   ]
  },
  {
   "cell_type": "markdown",
   "id": "42e9a07f",
   "metadata": {},
   "source": [
    "1. XGBoost + RandomSearchCV(Smoothed) --> Best overall balenced Model  \n",
    "\n",
    "2. KNN --> Best raw performance but risk of Overfitting \n",
    "\n",
    "FINAL MODEL -->  XGBoost\n",
    "\n",
    "NOTE : KNN , SVM also gave slightly better results but XGBoost was chosen because it's more Robust and Widely trusted. "
   ]
  },
  {
   "cell_type": "markdown",
   "id": "24fa2a40",
   "metadata": {},
   "source": [
    "                                                                                                                                                                 ."
   ]
  },
  {
   "cell_type": "markdown",
   "id": "56e29554",
   "metadata": {},
   "source": [
    "FINAL TRAINING AND SAVE THE MODEL"
   ]
  },
  {
   "cell_type": "code",
   "execution_count": 288,
   "id": "8dc57454",
   "metadata": {},
   "outputs": [],
   "source": [
    "import joblib\n",
    "\n",
    "# Save the model\n",
    "joblib.dump(model_XGB_RSV_bal, 'model_XGB_RSV_bal.pkl')\n",
    "\n",
    "# Load the model\n",
    "loaded_model_XGB_RSV_bal = joblib.load('model_XGB_RSV_bal.pkl')\n"
   ]
  },
  {
   "cell_type": "markdown",
   "id": "788abd9e",
   "metadata": {},
   "source": [
    "Evaluate on Test Set"
   ]
  },
  {
   "cell_type": "code",
   "execution_count": 316,
   "id": "193586f8",
   "metadata": {},
   "outputs": [
    {
     "data": {
      "text/plain": [
       "0.9545104086353122"
      ]
     },
     "execution_count": 316,
     "metadata": {},
     "output_type": "execute_result"
    }
   ],
   "source": [
    "import pickle\n",
    "filename = 'model_XGB_RSV_bal.pkl'\n",
    "pickle.dump(model_XGB_RSV_bal, open(filename, 'wb'))\n",
    "load_model = pickle.load(open(filename, 'rb'))\n",
    "model_score_r1 = load_model.score(Xr_test, yr_test)\n",
    "model_score_r1"
   ]
  },
  {
   "cell_type": "code",
   "execution_count": 327,
   "id": "36fc5cb6",
   "metadata": {},
   "outputs": [],
   "source": [
    "import sys\n",
    "import os\n",
    "\n",
    "sys.path.append(os.path.abspath(\"../src\"))\n",
    "os.makedirs(\"reports/figures\", exist_ok=True)\n",
    "\n",
    "\n",
    "from utils.metrics import (\n",
    "    plot_confusion_matrix,\n",
    "    plot_roc_curve,\n",
    "    plot_pr_curve,\n",
    "    save_classification_report\n",
    ")"
   ]
  },
  {
   "cell_type": "code",
   "execution_count": 331,
   "id": "0f6acdbb",
   "metadata": {},
   "outputs": [
    {
     "data": {
      "text/plain": [
       "{'0': {'precision': 0.9560439560439561,\n",
       "  'recall': 0.9371633752244165,\n",
       "  'f1-score': 0.9465095194922938,\n",
       "  'support': 557.0},\n",
       " '1': {'precision': 0.9533954727030626,\n",
       "  'recall': 0.9675675675675676,\n",
       "  'f1-score': 0.960429242119383,\n",
       "  'support': 740.0},\n",
       " 'accuracy': 0.9545104086353122,\n",
       " 'macro avg': {'precision': 0.9547197143735093,\n",
       "  'recall': 0.952365471395992,\n",
       "  'f1-score': 0.9534693808058383,\n",
       "  'support': 1297.0},\n",
       " 'weighted avg': {'precision': 0.9545328707145333,\n",
       "  'recall': 0.9545104086353122,\n",
       "  'f1-score': 0.9544513812841565,\n",
       "  'support': 1297.0}}"
      ]
     },
     "execution_count": 331,
     "metadata": {},
     "output_type": "execute_result"
    }
   ],
   "source": [
    "\n",
    "# Predictions\n",
    "y_pred = model_XGB_RSV_bal.predict(Xr_test)\n",
    "y_probs = model_XGB_RSV_bal.predict_proba(Xr_test)[:, 1]\n",
    "\n",
    "# Save plots to reports/figures\n",
    "plot_confusion_matrix(yr_test, y_pred, save_path=\"reports/figures/confusion_matrix.png\")\n",
    "plot_roc_curve(yr_test, y_probs, save_path=\"reports/figures/roc_curve.png\")\n",
    "plot_pr_curve(yr_test, y_probs, save_path=\"reports/figures/pr_curve.png\")\n",
    "\n",
    "# Save classification report\n",
    "save_classification_report(yr_test, y_pred, save_path=\"reports/results.json\")"
   ]
  },
  {
   "cell_type": "code",
   "execution_count": 333,
   "id": "661322a7",
   "metadata": {},
   "outputs": [
    {
     "name": "stdout",
     "output_type": "stream",
     "text": [
      "Length of y_test: 1409\n",
      "Length of y_pred: 1297\n"
     ]
    }
   ],
   "source": [
    "print(\"Length of y_test:\", len(y_test))\n",
    "print(\"Length of y_pred:\", len(y_pred))"
   ]
  },
  {
   "cell_type": "code",
   "execution_count": null,
   "id": "ff94f6b6",
   "metadata": {},
   "outputs": [],
   "source": []
  },
  {
   "cell_type": "code",
   "execution_count": null,
   "id": "4faab114",
   "metadata": {},
   "outputs": [],
   "source": []
  },
  {
   "cell_type": "code",
   "execution_count": null,
   "id": "553fd146",
   "metadata": {},
   "outputs": [],
   "source": []
  },
  {
   "cell_type": "code",
   "execution_count": null,
   "id": "8704e415",
   "metadata": {},
   "outputs": [],
   "source": []
  },
  {
   "cell_type": "code",
   "execution_count": null,
   "id": "f597fcb0",
   "metadata": {},
   "outputs": [],
   "source": []
  }
 ],
 "metadata": {
  "kernelspec": {
   "display_name": "Python 3",
   "language": "python",
   "name": "python3"
  },
  "language_info": {
   "codemirror_mode": {
    "name": "ipython",
    "version": 3
   },
   "file_extension": ".py",
   "mimetype": "text/x-python",
   "name": "python",
   "nbconvert_exporter": "python",
   "pygments_lexer": "ipython3",
   "version": "3.13.2"
  }
 },
 "nbformat": 4,
 "nbformat_minor": 5
}
